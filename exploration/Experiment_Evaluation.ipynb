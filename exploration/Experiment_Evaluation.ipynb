{
 "cells": [
  {
   "cell_type": "markdown",
   "id": "ead586c6-e7bb-41ba-8eed-4784bd271b55",
   "metadata": {},
   "source": [
    "# Experiment Evaluation"
   ]
  },
  {
   "cell_type": "markdown",
   "id": "2dd58c3c-d941-47fc-b04e-77e810a5e967",
   "metadata": {},
   "source": [
    "## 0. Prerequesites - Installing of packages and Loading Files"
   ]
  },
  {
   "cell_type": "code",
   "execution_count": null,
   "id": "86dfb7ee-60fc-48d1-93a3-ce544160984e",
   "metadata": {},
   "outputs": [],
   "source": [
    "import pickle\n",
    "import os \n",
    "\n",
    "import numpy as np\n",
    "os.chdir(\"..\")\n",
    "from src.utils import plot_confusion_matrix\n",
    "from src.utils import *\n",
    "\n",
    "import matplotlib.pyplot as plt\n",
    "import numpy as np\n",
    "from matplotlib.pyplot import figure\n",
    "import toml\n",
    "\n",
    "from sklearn.metrics import f1_score\n",
    "from sklearn.metrics import balanced_accuracy_score\n",
    "from sklearn.metrics import roc_auc_score\n",
    "\n",
    "import matplotlib.pyplot as plt\n",
    "import numpy as np\n",
    "\n",
    "\n",
    "config = toml.load(\"config.toml\")"
   ]
  },
  {
   "cell_type": "code",
   "execution_count": null,
   "id": "0903d46b-348d-45d7-aed2-0b03e3aa2706",
   "metadata": {},
   "outputs": [],
   "source": [
    "strengths = [\"impure_0.0\", \"impure_0.1\", \"impure_0.2\", \"impure_0.3\",\"impure_0.4\",\"impure_0.5\",\"impure_0.6\",\"impure_0.7\",\"impure_0.8\",\"impure_0.9\",\"impure_1.0\"]\n",
    "num_training_samples = 5000\n",
    "num_eval_samples = 5000\n",
    "num_explanations=500\n",
    "\n",
    "base_path = config[\"result\"][\"results\"]\n",
    "\n",
    "strategy=\"strategy 1/\"\n",
    "\n",
    "path_rediscovery_score1 = base_path + \"results_paper/strategy 1/rediscovery_score.pckl\"\n",
    "with open(path_rediscovery_score1, 'rb') as f:\n",
    "           rediscovery_score_str1 = pickle.load(f)\n",
    "           rediscovery_score_str1.reverse()\n",
    "path_rediscovery_score2 = base_path + \"results_paper/strategy 2/rediscovery_score.pckl\"\n",
    "with open(path_rediscovery_score2, 'rb') as f:\n",
    "           rediscovery_score_str2 = pickle.load(f)\n",
    "           rediscovery_score_str2.reverse()"
   ]
  },
  {
   "cell_type": "markdown",
   "id": "addec751-124d-424b-b3f3-206b3018e78c",
   "metadata": {},
   "source": [
    "## 1. Rediscovery Rate"
   ]
  },
  {
   "cell_type": "code",
   "execution_count": null,
   "id": "7712a97e-feb4-42d4-afb6-785f8f49a86f",
   "metadata": {},
   "outputs": [],
   "source": [
    "def plot_rediscovery_chart(rediscovery_strategy1, rediscovery_strategy2):\n",
    " \n",
    "    plt.rcParams[\"figure.figsize\"] = (12,8)\n",
    "    plt.rcParams[\"figure.dpi\"] = 300\n",
    "\n",
    "    x = [0.0, 0.1, 0.2, 0.3, 0.4, 0.5, 0.6, 0.7, 0.8, 0.9, 1.0]\n",
    "\n",
    "    plt.scatter(x, rediscovery_strategy1, s=12,  color=\"orange\")\n",
    "    plt.plot(x, rediscovery_strategy1 , label = \"Strategy 1\", linewidth=2.0, color=\"orange\")\n",
    "    plt.xticks(np.arange(0, 1.1, 0.1))\n",
    "    plt.yticks(np.arange(0, 1.1, 0.1))\n",
    "    \n",
    "    plt.scatter(x, rediscovery_strategy2, s=12, color=\"green\")\n",
    "    plt.plot(x, rediscovery_strategy2, label = \"Strategy 2\", linewidth=2.0, color=\"green\")\n",
    "    \n",
    "    plt.ylabel(\"Rediscovery Score\", fontsize=18)\n",
    "    plt.title(\"Rediscovery\", fontsize=22)\n",
    "    plt.xlabel('Dataset Purity', fontsize=18)\n",
    "    plt.xticks(fontsize=14)\n",
    "    plt.yticks(fontsize=14)\n",
    "    plt.legend()\n",
    "    #plt.tight_layout()\n",
    "    plt.savefig('charts/rediscovery.png', dpi=150)\n",
    "    return plt"
   ]
  },
  {
   "cell_type": "code",
   "execution_count": null,
   "id": "d7a1bc97-6d99-4b60-a102-50707c3dd531",
   "metadata": {},
   "outputs": [],
   "source": [
    "plot_rediscovery_chart([item[2] for item in rediscovery_score_str1], [item[2] for item in rediscovery_score_str2])"
   ]
  },
  {
   "cell_type": "markdown",
   "id": "949cb799-71ff-45fd-8855-23d239ff7c1e",
   "metadata": {},
   "source": [
    "## 2. Model Metrics (F1 and ROC AUC)"
   ]
  },
  {
   "cell_type": "code",
   "execution_count": null,
   "id": "b7357ead-a6ed-4c5c-a414-b82f22bc2af5",
   "metadata": {},
   "outputs": [],
   "source": [
    "f1_baseline_path = base_path + \"results_paper/b_f1_score.pckl\"\n",
    "with open(f1_baseline_path, 'rb') as f: \n",
    "    f1_baseline = pickle.load(f)\n",
    "    f1_baseline =  [item[1] for item in f1_baseline]\n",
    "    f1_baseline.reverse()\n",
    "f1_strategy_1_path = base_path + \"results_paper/1_f1_score.pckl\"\n",
    "with open(f1_strategy_1_path, 'rb') as f:\n",
    "    f1_strategy_1 = pickle.load(f)\n",
    "    f1_strategy_1 =  [item[1] for item in f1_strategy_1]\n",
    "    f1_strategy_1.reverse()\n",
    "f1_strategy_2_path = base_path + \"results_paper/2_f1_score.pckl\"\n",
    "with open(f1_strategy_2_path, 'rb') as f:\n",
    "    f1_strategy_2 = pickle.load(f)\n",
    "    f1_strategy_2 =  [item[1] for item in f1_strategy_2]\n",
    "    f1_strategy_2.reverse()\n",
    "    \n",
    "f1_brt_path = base_path + \"results_paper/brt_f1_score.pckl\"\n",
    "with open(f1_brt_path, 'rb') as f:\n",
    "    f1_brt = pickle.load(f)\n",
    "    f1_brt =  [item[1] for item in f1_brt]\n",
    "    f1_brt.reverse()"
   ]
  },
  {
   "cell_type": "code",
   "execution_count": null,
   "id": "36c2c738-d10a-4da2-a361-e00a8634e35a",
   "metadata": {},
   "outputs": [],
   "source": [
    "roc_auc_baseline_path = base_path + \"results_paper/b_auc_roc.pckl\"\n",
    "with open(roc_auc_baseline_path, 'rb') as f: \n",
    "    roc_auc_baseline = pickle.load(f)\n",
    "    roc_auc_baseline =  [item[1] for item in roc_auc_baseline]\n",
    "    roc_auc_baseline.reverse()\n",
    "roc_auc_strategy_1_path = base_path + \"results_paper/1_auc_roc.pckl\"\n",
    "with open(roc_auc_strategy_1_path, 'rb') as f:\n",
    "    roc_auc_strategy_1 = pickle.load(f)\n",
    "    roc_auc_strategy_1 = [item[1] for item in roc_auc_strategy_1]\n",
    "    roc_auc_strategy_1.reverse()\n",
    "roc_auc_strategy_2_path = base_path + \"results_paper/2_auc_roc.pckl\"\n",
    "with open(roc_auc_strategy_2_path, 'rb') as f:\n",
    "    roc_auc_strategy_2 = pickle.load(f)\n",
    "    roc_auc_strategy_2 =  [item[1] for item in roc_auc_strategy_2]\n",
    "    roc_auc_strategy_2.reverse()\n",
    "roc_auc_brt_path = base_path + \"results_paper/brt_auc_roc.pckl\"\n",
    "with open(roc_auc_brt_path, 'rb') as f:\n",
    "    roc_auc_brt = pickle.load(f)\n",
    "    roc_auc_brt =  [item[1] for item in roc_auc_brt]\n",
    "    roc_auc_brt.reverse()\n",
    "    \n",
    "y_test_path = base_path + \"strategy 1/1_xgb_y_test_impure_0.0.pckl\"\n",
    "with open(y_test_path, 'rb') as f:\n",
    "    y_test = pickle.load(f)"
   ]
  },
  {
   "cell_type": "code",
   "execution_count": null,
   "id": "8cd9550e-52d3-4de9-9e08-4552e9be1a24",
   "metadata": {},
   "outputs": [],
   "source": [
    "def plot_f1_chart(f1_baseline, f1_brt, f1_strategy_1, f1_strategy_2, ):\n",
    "\n",
    "    plt.rcParams[\"figure.figsize\"] = (12,8)\n",
    "    plt.rcParams[\"figure.dpi\"] = 300\n",
    "\n",
    "    x = [0.0, 0.1, 0.2, 0.3, 0.4, 0.5, 0.6, 0.7, 0.8, 0.9, 1.0]\n",
    "\n",
    "    #plt.scatter(x, f1_baseline, s=12)\n",
    "    plt.plot(x, f1_baseline, label = \"Baseline\", linewidth=2.0)\n",
    "    \n",
    "    # plt.scatter(x, f1_strategy_1, s=12)\n",
    "    plt.plot(x, f1_strategy_1 , label = \"Strategy 1\", linewidth=2.0)\n",
    "    \n",
    "    # plt.scatter(x, f1_strategy_2, s=12)\n",
    "    plt.plot(x, f1_strategy_2, label = \"Strategy 2\", linewidth=2.0)\n",
    "    \n",
    "    # plt.scatter(x, f1_brt, s=12)\n",
    "    plt.plot(x, f1_brt, label = \"BERT\", linewidth=2.0)\n",
    "    \n",
    "    plt.plot(x,[0 for i in range(11)], \"--\", label=\"One-sided prediction\")\n",
    "    \n",
    "    plt.xticks(np.arange(0, 1.1, 0.1))\n",
    "    plt.yticks(np.arange(0, 1.1, 0.1))\n",
    "\n",
    "    plt.ylabel(\"F1-Score\" , fontsize=18)\n",
    "    plt.title(\"F1-Score\", fontsize=22)\n",
    "    plt.xlabel('Dataset Purity', fontsize=18)\n",
    "    plt.legend()\n",
    "    plt.xticks(fontsize=14)\n",
    "    plt.yticks(fontsize=14)\n",
    "    #plt.tight_layout()\n",
    "    plt.savefig('charts/f1.png', dpi=150)\n",
    "    return plt"
   ]
  },
  {
   "cell_type": "code",
   "execution_count": null,
   "id": "9d39f54e-3140-41bf-94fd-b7e3a08a2a39",
   "metadata": {},
   "outputs": [],
   "source": [
    "plot_f1_chart(f1_baseline, f1_brt, f1_strategy_1, f1_strategy_2)"
   ]
  },
  {
   "cell_type": "code",
   "execution_count": null,
   "id": "6feba217-fc89-48b2-9071-46d426c900b2",
   "metadata": {},
   "outputs": [],
   "source": [
    "def plot_roc_auc_chart( roc_auc_baseline, roc_auc_brt, roc_auc_strategy_1, roc_auc_strategy_2 ):\n",
    "   \n",
    "    plt.rcParams[\"figure.figsize\"] = (12,8)\n",
    "    plt.rcParams[\"figure.dpi\"] = 300\n",
    "\n",
    "    x = [0.0, 0.1, 0.2, 0.3, 0.4, 0.5, 0.6, 0.7, 0.8, 0.9, 1.0]\n",
    "\n",
    "    #plt.scatter(x, roc_auc_baseline, s=12)\n",
    "    plt.plot(x, roc_auc_baseline, label = \"Baseline\", linewidth=2.0)\n",
    "    \n",
    "    #plt.scatter(x, roc_auc_strategy_1, s=12)\n",
    "    plt.plot(x, roc_auc_strategy_1 , label = \"Strategy 1\", linewidth=2.0)\n",
    "    \n",
    "    #plt.scatter(x, roc_auc_strategy_2, s=12)\n",
    "    plt.plot(x, roc_auc_strategy_2, label = \"Strategy 2\", linewidth=2.0)\n",
    "    \n",
    "    #plt.scatter(x, roc_auc_brt, s=12)\n",
    "    plt.plot(x, roc_auc_brt, label = \"BERT\", linewidth=2.0)\n",
    "    plt.plot(x,[0.5 for i in range(11)], \"--\", label=\"One-sided prediction\")\n",
    "    plt.plot(0,0, color=\"white\")\n",
    "    \n",
    "    plt.xticks(np.arange(0, 1.1, 0.1))\n",
    "    plt.yticks(np.arange(0, 1.1, 0.1))\n",
    "\n",
    "    plt.ylabel(\"ROC AUC Score\", fontsize=18)\n",
    "    plt.title(\"ROC AUC\", fontsize=22)\n",
    "    plt.xlabel('Dataset Purity', fontsize=18)\n",
    "    plt.xticks(fontsize=14)\n",
    "    plt.yticks(fontsize=14)\n",
    "    plt.legend()\n",
    "    #plt.tight_layout()\n",
    "    plt.savefig('charts/roc_auc.png', dpi=150)\n",
    "    return plt"
   ]
  },
  {
   "cell_type": "code",
   "execution_count": null,
   "id": "a7fe171a-8dbb-4af2-b86d-44c183e4ada7",
   "metadata": {},
   "outputs": [],
   "source": [
    "plot_roc_auc_chart(roc_auc_baseline, roc_auc_brt, roc_auc_strategy_1, roc_auc_strategy_2 )"
   ]
  },
  {
   "cell_type": "markdown",
   "id": "394ebd20-4198-45b2-bd14-8a7106b08896",
   "metadata": {},
   "source": [
    "## 3. Time Comparison"
   ]
  },
  {
   "cell_type": "code",
   "execution_count": null,
   "id": "e21bffd2-b9c2-49b2-b5cc-08079d4032f8",
   "metadata": {},
   "outputs": [],
   "source": [
    "training_baseline_path = base_path + \"results_paper/b_training_times.pckl\"\n",
    "with open(training_baseline_path, 'rb') as f: \n",
    "    training_baseline = pickle.load(f)\n",
    "    training_baseline.reverse()\n",
    "training_strategy_1_path = base_path + \"results_paper/1_training_times.pckl\"\n",
    "with open(training_strategy_1_path, 'rb') as f:\n",
    "    training_strategy_1 = pickle.load(f)\n",
    "    training_strategy_1.reverse()\n",
    "training_strategy_2_path = base_path + \"results_paper/2_training_times.pckl\"\n",
    "with open(training_strategy_2_path, 'rb') as f:\n",
    "    training_strategy_2 = pickle.load(f)\n",
    "    training_strategy_2.reverse()"
   ]
  },
  {
   "cell_type": "code",
   "execution_count": null,
   "id": "1deb8a14-8538-4325-8b8e-a0e9ffdf16a6",
   "metadata": {},
   "outputs": [],
   "source": [
    "explanation_baseline_path = base_path + \"results_paper/b_explanation_times.pckl\"\n",
    "with open(explanation_baseline_path, 'rb') as f: \n",
    "    explanation_baseline = pickle.load(f)\n",
    "    explanation_baseline.reverse()\n",
    "explanation_strategy_1_path = base_path + \"results_paper/1_explanation_times.pckl\"\n",
    "with open(explanation_strategy_1_path, 'rb') as f:\n",
    "    explanation_strategy_1 = pickle.load(f)\n",
    "    explanation_strategy_1.reverse()\n",
    "explanation_strategy_2_path = base_path + \"results_paper/2_explanation_times.pckl\"\n",
    "with open(explanation_strategy_2_path, 'rb') as f:\n",
    "    explanation_strategy_2 = pickle.load(f)\n",
    "    explanation_strategy_2.reverse()"
   ]
  },
  {
   "cell_type": "code",
   "execution_count": null,
   "id": "95be9765-db09-466f-9dc6-d2f7f67b9841",
   "metadata": {},
   "outputs": [],
   "source": [
    "print(\"Training Baseline: \\t\\t Mean {}, \\t Min {}, \\t Max {}, \\t StdDev {}\".format(round(np.average(training_baseline),0), round(np.min(training_baseline),0), round(np.max(training_baseline),0), round(np.std(training_baseline),0)))\n",
    "print(\"Explanation Baseline: \\t\\t Mean {}, \\t Min {}, \\t Max {}, \\t StdDev {}\".format(round(np.average(explanation_baseline),0), round(np.min(explanation_baseline),0), round(np.max(explanation_baseline),0), round(np.std(explanation_baseline),0)))\n",
    "\n",
    "print(\"Training Strategy 1: \\t\\t Mean {}, \\t Min {}, \\t Max {}, \\t StdDev {}\".format(round(np.average(training_strategy_1),0), round(np.min(training_strategy_1),0), round(np.max(training_strategy_1),0), round(np.std(training_strategy_1),0)))\n",
    "print(\"Explanation Strategy 1: \\t Mean {},\\t Min {}, \\t Max {}, \\t StdDev {}\".format(round(np.average(explanation_strategy_1),0), round(np.min(explanation_strategy_1),0), round(np.max(explanation_strategy_1),0), round(np.std(explanation_strategy_1),0)))\n",
    "\n",
    "print(\"Training Strategy 2: \\t\\t Mean {}, \\t Min {}, \\t Max {}, \\t StdDev {}\".format(round(np.average(training_strategy_2),0), round(np.min(training_strategy_2),0), round(np.max(training_strategy_2),0), round(np.std(training_strategy_2),0)))\n",
    "print(\"Explanation Strategy 2: \\t Mean {},\\t Min {}, \\t Max {}, \\t StdDev {}\".format(round(np.average(explanation_strategy_2),0), round(np.min(explanation_strategy_2),0), round(np.max(explanation_strategy_2),0), round(np.std(explanation_strategy_2),0)))"
   ]
  },
  {
   "cell_type": "markdown",
   "id": "aae2728c-1dac-4b1e-8c92-15b747981f15",
   "metadata": {},
   "source": [
    "## 4. Parsimony Score"
   ]
  },
  {
   "cell_type": "code",
   "execution_count": null,
   "id": "df27265b-6215-475e-8fb2-8300ff8c94ad",
   "metadata": {},
   "outputs": [],
   "source": [
    "parsimony_baseline_path = base_path + \"results_paper/b_parsimony.pckl\"\n",
    "with open(parsimony_baseline_path, 'rb') as f: \n",
    "    parsimony_baseline = pickle.load(f)\n",
    "    parsimony_baseline.reverse()\n",
    "parsimony_strategy_1_path = base_path + \"results_paper/1_parsimony.pckl\"\n",
    "with open(parsimony_strategy_1_path, 'rb') as f:\n",
    "    parsimony_strategy_1 = pickle.load(f)\n",
    "    parsimony_strategy_1.reverse()\n",
    "parsimony_strategy_2_path = base_path + \"results_paper/2_parsimony.pckl\"\n",
    "with open(parsimony_strategy_2_path, 'rb') as f:\n",
    "    parsimony_strategy_2 = pickle.load(f)\n",
    "    parsimony_strategy_2.reverse()"
   ]
  },
  {
   "cell_type": "code",
   "execution_count": null,
   "id": "215fd6ed-b37b-4761-a82c-916c8a7aed48",
   "metadata": {},
   "outputs": [],
   "source": [
    "def plot_parsimony_chart(parsimony_baseline,  parsimony_strategy_1, parsimony_strategy_2):\n",
    "    plt.rcParams[\"figure.figsize\"] = (12,8)\n",
    "    plt.rcParams[\"figure.dpi\"] = 300\n",
    "\n",
    "    x = [0.0, 0.1, 0.2, 0.3, 0.4, 0.5, 0.6, 0.7, 0.8, 0.9, 1.0]\n",
    "\n",
    "    plt.scatter(x, parsimony_baseline, s=12)\n",
    "    plt.plot(x, parsimony_baseline, label = \"Baseline\", linewidth=2.0)\n",
    "    \n",
    "    plt.scatter(x, parsimony_strategy_1, s=12)\n",
    "    plt.plot(x, parsimony_strategy_1 , label = \"Strategy 1\", linewidth=2.0)\n",
    "    \n",
    "    plt.scatter(x, parsimony_strategy_2, s=12)\n",
    "    plt.plot(x, parsimony_strategy_2, label = \"Strategy 2\", linewidth=2.0)\n",
    "\n",
    "    plt.xticks(np.arange(0, 1.1, 0.1))\n",
    "    plt.yticks(np.arange(0, 3300, 300))\n",
    "    plt.ylabel(\"Parsimony Score\", fontsize=18)\n",
    "    plt.title(\"Parsimony\", fontsize=22)\n",
    "    plt.xlabel('Dataset Purity', fontsize=18)\n",
    "    plt.legend()\n",
    "    plt.xticks(fontsize=14)\n",
    "    plt.yticks(fontsize=14)\n",
    "    #plt.tight_layout()\n",
    "    plt.savefig('charts/parsimony.png', dpi=150)\n",
    "    return plt"
   ]
  },
  {
   "cell_type": "code",
   "execution_count": null,
   "id": "d9dfeb07-6ad1-49e6-933b-73512e05018b",
   "metadata": {},
   "outputs": [],
   "source": [
    "plot_parsimony_chart([item[1] for item in parsimony_baseline], [item[1] for item in parsimony_strategy_1], [item[1] for item in parsimony_strategy_2])"
   ]
  },
  {
   "cell_type": "code",
   "execution_count": null,
   "id": "7f8080f3-500a-42af-b848-98bab82b5198",
   "metadata": {},
   "outputs": [],
   "source": []
  },
  {
   "cell_type": "markdown",
   "id": "adfdbab0-3fa7-4516-a453-af99f6f4aef8",
   "metadata": {},
   "source": [
    "## 5. Monotonicity"
   ]
  },
  {
   "cell_type": "code",
   "execution_count": null,
   "id": "25fb3f0c-e570-40b4-9386-ebe8b903e96a",
   "metadata": {},
   "outputs": [],
   "source": [
    "monotonicity_baseline_path = base_path + \"results_paper/b_monotonicity.pckl\"\n",
    "with open(monotonicity_baseline_path, 'rb') as f: \n",
    "    monotonicity_baseline = pickle.load(f)\n",
    "    monotonicity_baseline.reverse()\n",
    "monotonicity_strategy_2_path = base_path + \"results_paper/2_monotonicity.pckl\"\n",
    "with open(monotonicity_strategy_2_path, 'rb') as f:\n",
    "    monotonicity_strategy_2 = pickle.load(f)\n",
    "    monotonicity_strategy_2.reverse()"
   ]
  },
  {
   "cell_type": "code",
   "execution_count": null,
   "id": "54cb89ab-198f-491e-ac38-57ff844908ec",
   "metadata": {},
   "outputs": [],
   "source": [
    "def plot_monotonicity_chart(monotonicity_baseline,  monotonicity_strategy_2):\n",
    "\n",
    "    plt.rcParams[\"figure.figsize\"] = (10,8)\n",
    "    plt.rcParams[\"figure.dpi\"] = 300\n",
    "\n",
    "    x = [0.0, 0.1, 0.2, 0.3, 0.4, 0.5, 0.6, 0.7, 0.8, 0.9, 1.0]\n",
    "\n",
    "    plt.scatter(x, monotonicity_baseline, s=12)\n",
    "    plt.plot(x, monotonicity_baseline, label = \"Baseline\", linewidth=2.0)\n",
    "    \n",
    "    plt.scatter(x, monotonicity_strategy_2, s=12, c=\"green\")\n",
    "    plt.plot(x, monotonicity_strategy_2 , label = \"Strategy 2\",c=\"green\", linewidth=2.0)\n",
    "    \n",
    "    plt.plot(0,0, color=\"white\")\n",
    "    plt.xticks(np.arange(0, 1.1, 0.1))\n",
    "    plt.yticks(np.arange(0, 1.1, 0.1))\n",
    "    plt.ylabel(\"Monotonicity Score\", fontsize=18)\n",
    "    plt.title(\"Monotonicity\", fontsize=22)\n",
    "    plt.xlabel('Dataset Purity', fontsize=18)\n",
    "    plt.legend()\n",
    "    plt.xticks(fontsize=14)\n",
    "    plt.yticks(fontsize=14)\n",
    "    #plt.tight_layout()\n",
    "    plt.savefig('charts/monotonicity.png', dpi=150)\n",
    "    return plt"
   ]
  },
  {
   "cell_type": "code",
   "execution_count": null,
   "id": "75242ca7-0d6d-4393-80ce-63023f388d04",
   "metadata": {},
   "outputs": [],
   "source": [
    "plot_monotonicity_chart(monotonicity_baseline,  monotonicity_strategy_2)"
   ]
  }
 ],
 "metadata": {
  "kernelspec": {
   "display_name": "Python 3 (ipykernel)",
   "language": "python",
   "name": "python3"
  },
  "language_info": {
   "codemirror_mode": {
    "name": "ipython",
    "version": 3
   },
   "file_extension": ".py",
   "mimetype": "text/x-python",
   "name": "python",
   "nbconvert_exporter": "python",
   "pygments_lexer": "ipython3",
   "version": "3.7.11"
  }
 },
 "nbformat": 4,
 "nbformat_minor": 5
}
