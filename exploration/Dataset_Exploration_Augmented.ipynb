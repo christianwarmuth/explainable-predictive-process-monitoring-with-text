{
 "cells": [
  {
   "cell_type": "markdown",
   "id": "441759e9-5389-497d-9e85-26499166d898",
   "metadata": {},
   "source": [
    "# Data Exploration - Augmented Dataset "
   ]
  },
  {
   "cell_type": "markdown",
   "id": "7a7a244e-8691-4eed-b6d4-5e2db2a5375d",
   "metadata": {},
   "source": [
    "## 0. Prerequesites - Installing of packages and Loading Files"
   ]
  },
  {
   "cell_type": "code",
   "execution_count": null,
   "id": "b6c3c564-d80d-4195-898d-87f799a79e76",
   "metadata": {},
   "outputs": [],
   "source": [
    "import pandas as pd\n",
    "import pylab as pl\n",
    "import matplotlib.pyplot as plt\n",
    "import os\n",
    "import toml\n",
    "\n",
    "os.chdir(\"..\")\n",
    "config = toml.load(\"config.toml\")"
   ]
  },
  {
   "cell_type": "code",
   "execution_count": null,
   "id": "385f2f5b-6429-4365-b35b-efe923cfffbb",
   "metadata": {},
   "outputs": [],
   "source": [
    "base_path = config[\"data\"][\"synthetic\"]\n",
    "df_impure_03 = pd.read_csv(base_path + \"/bpic17plus_impure_0.3.csv\", sep=\";\")"
   ]
  },
  {
   "cell_type": "markdown",
   "id": "9464aeb7-a3b3-4603-bd03-03c637b8bdde",
   "metadata": {},
   "source": [
    "## 1. First Investigation"
   ]
  },
  {
   "cell_type": "code",
   "execution_count": null,
   "id": "28767c65-510b-4669-a048-ef1f098ef219",
   "metadata": {},
   "outputs": [],
   "source": [
    "df_impure_03.head()"
   ]
  },
  {
   "cell_type": "code",
   "execution_count": null,
   "id": "53dd0fa8-18b8-4ffd-9e31-a3edb8907d16",
   "metadata": {},
   "outputs": [],
   "source": [
    "filter = pd.isna(df_impure_03[\"desc\"])\n",
    "df_impure_03_f = df_impure_03[~filter]"
   ]
  },
  {
   "cell_type": "markdown",
   "id": "f0b8d2e7-f9cb-47c4-aa93-3b1afafdc485",
   "metadata": {},
   "source": [
    "## 2. Histogram of Text Lengths in Augmented Dataset"
   ]
  },
  {
   "cell_type": "code",
   "execution_count": null,
   "id": "385805da-5f22-47de-a84f-c9dbf0c5bda5",
   "metadata": {},
   "outputs": [],
   "source": [
    "plt.rcParams[\"figure.figsize\"] = (7,6)\n",
    "plt.rcParams[\"figure.dpi\"] = 300\n",
    "\n",
    "df_impure_03_f[\"desc\"].str.count(\" \").hist(bins=60, grid=False, figsize=(12,8), color='#2077B4', zorder=2, rwidth=0.9)\n",
    "pl.title(\"Histogram of Text Lengths in Augmented BPIC17 Dataset\", fontsize=22)\n",
    "pl.xlabel(\"Text Length\", fontsize=18)\n",
    "pl.ylabel(\"Cumulative count\", fontsize=18)\n",
    "pl.xticks(fontsize=14)\n",
    "pl.yticks(fontsize=14)\n",
    "#pl.axvline(x=45.5, ymin=0, ymax=1, linewidth=3, color=\"#000000\")\n",
    "pl.savefig('charts/hist_text_lengths_augmented.png', dpi=150)"
   ]
  },
  {
   "cell_type": "code",
   "execution_count": null,
   "id": "6f9d1d6c-4b36-4897-84f7-e4063e05085a",
   "metadata": {},
   "outputs": [],
   "source": [
    "df_impure_03_f[\"desc\"].str.count(\" \").max()"
   ]
  }
 ],
 "metadata": {
  "kernelspec": {
   "display_name": "Python 3 (ipykernel)",
   "language": "python",
   "name": "python3"
  },
  "language_info": {
   "codemirror_mode": {
    "name": "ipython",
    "version": 3
   },
   "file_extension": ".py",
   "mimetype": "text/x-python",
   "name": "python",
   "nbconvert_exporter": "python",
   "pygments_lexer": "ipython3",
   "version": "3.7.11"
  }
 },
 "nbformat": 4,
 "nbformat_minor": 5
}
