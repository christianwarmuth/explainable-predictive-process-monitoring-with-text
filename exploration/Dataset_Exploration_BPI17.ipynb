{
 "cells": [
  {
   "cell_type": "markdown",
   "metadata": {},
   "source": [
    "# Dataset Exploration - BPIC 17 "
   ]
  },
  {
   "cell_type": "markdown",
   "metadata": {},
   "source": [
    "## 0. Prerequesites - Installing of packages and Loading Files"
   ]
  },
  {
   "cell_type": "code",
   "execution_count": null,
   "metadata": {},
   "outputs": [],
   "source": [
    "import pandas as pd\n",
    "import toml\n",
    "import os\n",
    "import matplotlib.pyplot as plt\n",
    "\n",
    "import pm4py\n",
    "import os\n",
    "from pm4py.algo.discovery.heuristics import algorithm as heuristics_miner\n",
    "\n",
    "from pm4py.algo.discovery.dfg import algorithm as dfg_discovery\n",
    "from pm4py.visualization.dfg import visualizer as dfg_visualization\n",
    "from pm4py.objects.conversion.process_tree import converter\n",
    "from pm4py.algo.discovery.heuristics import algorithm as heuristics_miner\n",
    "\n",
    "from pm4py.visualization.petri_net import visualizer as pn_visualizer\n",
    "\n",
    "from pm4py.objects.conversion.log import converter as log_converter\n",
    "\n",
    "import pm4py\n",
    "\n",
    "import pylab as pl\n",
    "\n",
    "os.chdir(\"..\")\n",
    "config = toml.load(\"config.toml\")"
   ]
  },
  {
   "cell_type": "code",
   "execution_count": null,
   "metadata": {},
   "outputs": [],
   "source": [
    "df_a = pd.read_csv(config[\"data\"][\"bpi17_pa\"], delimiter=\";\")\n",
    "\n",
    "df_bpi17 = df_a"
   ]
  },
  {
   "cell_type": "markdown",
   "metadata": {},
   "source": [
    "## 2. First Investigation"
   ]
  },
  {
   "cell_type": "code",
   "execution_count": null,
   "metadata": {},
   "outputs": [],
   "source": [
    "df_bpi17.head(10)"
   ]
  },
  {
   "cell_type": "markdown",
   "metadata": {
    "tags": []
   },
   "source": [
    "## 3. Average Case Duration (Number Activities and Time Spent) and Histogram of Case Lengths"
   ]
  },
  {
   "cell_type": "code",
   "execution_count": null,
   "metadata": {},
   "outputs": [],
   "source": [
    "# Average Case Duration (Time)\n",
    "\n",
    "df_bpi17_grouped=df_bpi17.groupby(by='Case ID')['time:timestamp'].agg(['first','last'])\n",
    "df_bpi17_grouped[[\"first\", \"last\"]] = df_bpi17_grouped[[\"first\", \"last\"]].apply(pd.to_datetime)\n",
    "df_bpi17_grouped[[\"first\", \"last\"]] = df_bpi17_grouped[[\"first\", \"last\"]].apply(pd.to_datetime)\n",
    "df_bpi17_grouped['Days_gap']=df_bpi17_grouped['last']-df_bpi17_grouped['first']\n",
    "df_bpi17_grouped.groupby(by='Case ID')[\"Days_gap\"].last().mean()"
   ]
  },
  {
   "cell_type": "code",
   "execution_count": null,
   "metadata": {},
   "outputs": [],
   "source": [
    "# Median Number of Activities per Case\n",
    "df_bpi17.groupby(['Case ID']).size().median()"
   ]
  },
  {
   "cell_type": "code",
   "execution_count": null,
   "metadata": {},
   "outputs": [],
   "source": [
    "df_bpi17.columns"
   ]
  },
  {
   "cell_type": "code",
   "execution_count": null,
   "metadata": {},
   "outputs": [],
   "source": [
    "plt.rcParams[\"figure.figsize\"] = (7,6)\n",
    "plt.rcParams[\"figure.dpi\"] = 300\n",
    "histo = df_bpi17.groupby(['Case ID']).size().hist(bins=50, grid=False, figsize=(12,8) , color='#2077B4', zorder=2, rwidth=0.9)\n",
    "pl.title(\"Histogram of Case Lengths\", fontsize=22)\n",
    "pl.xlabel(\"Case Length\", fontsize=18)\n",
    "pl.ylabel(\"Cumulative count\", fontsize=18)\n",
    "pl.xticks(fontsize=14)\n",
    "pl.yticks(fontsize=14)\n",
    "pl.axvline(x=35, ymin=0, ymax=1, linewidth=3, color=\"#000000\")\n",
    "pl.savefig('charts/hist_case_lengths.png', dpi=150)"
   ]
  },
  {
   "cell_type": "markdown",
   "metadata": {},
   "source": [
    "## 4. Process Outcome Statistics"
   ]
  },
  {
   "cell_type": "code",
   "execution_count": null,
   "metadata": {},
   "outputs": [],
   "source": [
    "df_bpi17.groupby(by='Case ID').last()[\"label\"].value_counts()"
   ]
  },
  {
   "cell_type": "code",
   "execution_count": null,
   "metadata": {},
   "outputs": [],
   "source": [
    "print(df_bpi17[\"Activity\"].nunique())\n",
    "print(df_bpi17.shape)"
   ]
  },
  {
   "cell_type": "markdown",
   "metadata": {},
   "source": [
    "## 5. First DFG and BPMN Graphs"
   ]
  },
  {
   "cell_type": "code",
   "execution_count": null,
   "metadata": {},
   "outputs": [],
   "source": [
    "event_log = pm4py.read_xes(config[\"data\"][\"bpi17_xes\"])\n",
    "\n",
    "dfg = dfg_discovery.apply(event_log, variant=dfg_discovery.Variants.PERFORMANCE)\n",
    "parameters = {dfg_visualization.Variants.PERFORMANCE.value.Parameters.FORMAT: \"svg\"}\n",
    "gviz = dfg_visualization.apply(dfg, log=event_log, variant=dfg_visualization.Variants.PERFORMANCE, parameters=parameters)\n",
    "dfg_visualization.save(gviz, \"charts/dfg.svg\")"
   ]
  },
  {
   "cell_type": "code",
   "execution_count": null,
   "metadata": {},
   "outputs": [],
   "source": [
    "log = pm4py.read_xes(config[\"data\"][\"bpi17_xes\"])\n",
    "tree = pm4py.discover_process_tree_inductive(log)\n",
    "\n",
    "bpmn_graph = converter.apply(tree, variant=converter.Variants.TO_BPMN)\n",
    "pm4py.view_bpmn(bpmn_graph)"
   ]
  },
  {
   "cell_type": "code",
   "execution_count": null,
   "metadata": {},
   "outputs": [],
   "source": [
    "event_log = pm4py.read_xes(config[\"data\"][\"bpi17_xes\"])\n",
    "start_activities = pm4py.get_start_activities(event_log)\n",
    "end_activities = pm4py.get_end_activities(event_log)\n",
    "print(\"Start activities: {}\\nEnd activities: {}\".format(start_activities, end_activities))"
   ]
  },
  {
   "cell_type": "code",
   "execution_count": null,
   "metadata": {},
   "outputs": [],
   "source": [
    "heu_net = heuristics_miner.apply_heu(event_log, parameters={heuristics_miner.Variants.CLASSIC.value.Parameters.DEPENDENCY_THRESH: 0.99})"
   ]
  },
  {
   "cell_type": "code",
   "execution_count": null,
   "metadata": {},
   "outputs": [],
   "source": [
    "net, im, fm = heuristics_miner.apply(event_log, parameters={heuristics_miner.Variants.CLASSIC.value.Parameters.DEPENDENCY_THRESH: 0.99})\n",
    "gviz = pn_visualizer.apply(net, im, fm)\n",
    "pn_visualizer.view(gviz)"
   ]
  }
 ],
 "metadata": {
  "interpreter": {
   "hash": "625857e3fbaec12c74580167a4f9f1432574783732d9361caf36d8a7d1232340"
  },
  "kernelspec": {
   "display_name": "Python 3 (ipykernel)",
   "language": "python",
   "name": "python3"
  },
  "language_info": {
   "codemirror_mode": {
    "name": "ipython",
    "version": 3
   },
   "file_extension": ".py",
   "mimetype": "text/x-python",
   "name": "python",
   "nbconvert_exporter": "python",
   "pygments_lexer": "ipython3",
   "version": "3.7.11"
  }
 },
 "nbformat": 4,
 "nbformat_minor": 4
}
