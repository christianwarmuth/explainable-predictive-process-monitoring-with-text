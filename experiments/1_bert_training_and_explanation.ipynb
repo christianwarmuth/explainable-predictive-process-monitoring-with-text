{
 "cells": [
  {
   "cell_type": "markdown",
   "id": "f844cf51",
   "metadata": {},
   "source": [
    "# Strategy 1: BERT Model Training and Explanation"
   ]
  },
  {
   "cell_type": "code",
   "execution_count": null,
   "id": "f4c64c02",
   "metadata": {},
   "outputs": [],
   "source": [
    "!pip install torch==1.6\n",
    "!pip install spacy\n",
    "!pip install shap\n",
    "!pip install transformers\n",
    "!python -m spacy download en_core_web_sm\n",
    "!pip install datasets\n",
    "!pip install wordcloud"
   ]
  },
  {
   "cell_type": "code",
   "execution_count": null,
   "id": "86595369",
   "metadata": {},
   "outputs": [],
   "source": [
    "!pip install gensim\n",
    "!pip install urllib3==1.25.10"
   ]
  },
  {
   "cell_type": "code",
   "execution_count": null,
   "id": "16e891a2",
   "metadata": {},
   "outputs": [],
   "source": [
    "!pip install boto3==1.20.0\n",
    "!pip install botocore==1.23.24\n",
    "!pip install awscli\n",
    "\n",
    "!pip install s3fs==2021.08.0"
   ]
  },
  {
   "cell_type": "code",
   "execution_count": null,
   "id": "7edb5f0f",
   "metadata": {},
   "outputs": [],
   "source": [
    "!yes | pip install aiobotocore\n",
    "!yes | pip install boto\n",
    "!yes | pip install boto3\n",
    "!yes | pip install botocore\n",
    "\n",
    "!pip install aiobotocore==1.4.2\n",
    "!pip install boto==2.49.0\n",
    "!pip install boto3==1.20.0\n",
    "!pip install botocore==1.20.106"
   ]
  },
  {
   "cell_type": "code",
   "execution_count": null,
   "id": "72b37148",
   "metadata": {},
   "outputs": [],
   "source": [
    "import os\n",
    "os.chdir(\"..\")\n",
    "\n",
    "from src.str_one_bert_training_and_explanation import Bert_Training_and_Explanation"
   ]
  },
  {
   "cell_type": "code",
   "execution_count": null,
   "id": "4c53279a",
   "metadata": {},
   "outputs": [],
   "source": [
    "strategies = [0,1,2,3,4,5,6,7,8,9,10]\n",
    "\n",
    "for s in strategies:\n",
    "    print(\"Started: \" + str(s))\n",
    "    Bert_Training_and_Explanation.build(s)\n",
    "    print(\"Finished: \" + str(s))"
   ]
  }
 ],
 "metadata": {
  "kernelspec": {
   "display_name": "Python 3 (Data Science)",
   "language": "python",
   "name": "python3__SAGEMAKER_INTERNAL__arn:aws:sagemaker:eu-west-1:470317259841:image/datascience-1.0"
  },
  "language_info": {
   "codemirror_mode": {
    "name": "ipython",
    "version": 3
   },
   "file_extension": ".py",
   "mimetype": "text/x-python",
   "name": "python",
   "nbconvert_exporter": "python",
   "pygments_lexer": "ipython3",
   "version": "3.7.10"
  }
 },
 "nbformat": 4,
 "nbformat_minor": 5
}
